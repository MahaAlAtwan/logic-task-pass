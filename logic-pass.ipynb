{
 "cells": [
  {
   "cell_type": "code",
   "execution_count": 1,
   "metadata": {},
   "outputs": [
    {
     "name": "stdout",
     "output_type": "stream",
     "text": [
      "please enter your text: maha\n",
      "wich character you whant removed? m\n",
      "aha\n"
     ]
    }
   ],
   "source": [
    "#Q1/Write a method that will remove any given character from a String?\n",
    "\n",
    "s1= input(\"please enter your text: \")\n",
    "s2= input(\"wich character you whant removed? \")\n",
    "s3 = s1.replace(s2,\"\")\n",
    "\n",
    "print(s3) "
   ]
  },
  {
   "cell_type": "code",
   "execution_count": 1,
   "metadata": {},
   "outputs": [
    {
     "name": "stdout",
     "output_type": "stream",
     "text": [
      "the number is Even \n",
      "the number is Odd \n",
      "the number is Even \n",
      "the number is Odd \n",
      "the number is Even \n",
      "the number is Odd \n",
      "the number is Even \n",
      "the number is Odd \n",
      "the number is Even \n"
     ]
    }
   ],
   "source": [
    "#Q2/Write a program to find all prime numbers up to a given range of numbers?\n",
    "\n",
    "for i in range(9):\n",
    "    if i%2!=0:\n",
    "        print(\"the number is Odd \")\n",
    "    else:\n",
    "        print(\"the number is Even \")\n",
    "        "
   ]
  },
  {
   "cell_type": "code",
   "execution_count": 2,
   "metadata": {},
   "outputs": [
    {
     "name": "stdout",
     "output_type": "stream",
     "text": [
      "please enter your text: maha\n",
      "4\n"
     ]
    }
   ],
   "source": [
    "#Q3/write a function that count how many the given character repeated in a given string?\n",
    "s1= input(\"please enter your text: \")\n",
    "s2= len(s1)\n",
    "print(s2)\n"
   ]
  },
  {
   "cell_type": "code",
   "execution_count": null,
   "metadata": {},
   "outputs": [],
   "source": []
  }
 ],
 "metadata": {
  "kernelspec": {
   "display_name": "Python 3",
   "language": "python",
   "name": "python3"
  },
  "language_info": {
   "codemirror_mode": {
    "name": "ipython",
    "version": 3
   },
   "file_extension": ".py",
   "mimetype": "text/x-python",
   "name": "python",
   "nbconvert_exporter": "python",
   "pygments_lexer": "ipython3",
   "version": "3.7.6"
  }
 },
 "nbformat": 4,
 "nbformat_minor": 4
}
